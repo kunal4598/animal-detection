{
  "cells": [
    {
      "cell_type": "code",
      "execution_count": null,
      "metadata": {
        "id": "tdBrvtkBk77Z"
      },
      "outputs": [],
      "source": [
        "import tensorflow as tf\n",
        "from tensorflow.keras import layers, models\n",
        "import matplotlib.pyplot as plt"
      ]
    },
    {
      "cell_type": "code",
      "execution_count": null,
      "metadata": {
        "colab": {
          "base_uri": "https://localhost:8080/"
        },
        "id": "lhCK151mlcqE",
        "outputId": "29a69787-9d4f-44b5-c93b-b873ff2b846a"
      },
      "outputs": [
        {
          "output_type": "stream",
          "name": "stdout",
          "text": [
            "Mounted at /content/drive\n"
          ]
        }
      ],
      "source": [
        "from google.colab import drive\n",
        "drive.mount('/content/drive')"
      ]
    },
    {
      "cell_type": "code",
      "execution_count": null,
      "metadata": {
        "id": "CicReQq4lfGA"
      },
      "outputs": [],
      "source": [
        "dataset_dir = '/content/drive/My Drive/animal/animals/animals'"
      ]
    },
    {
      "cell_type": "code",
      "execution_count": null,
      "metadata": {
        "id": "2wZF4AAMnRKf"
      },
      "outputs": [],
      "source": [
        "batch_size = 2\n",
        "img_height = 150\n",
        "img_width = 150"
      ]
    },
    {
      "cell_type": "code",
      "execution_count": null,
      "metadata": {
        "colab": {
          "base_uri": "https://localhost:8080/"
        },
        "id": "MPgomJHtnT6d",
        "outputId": "446d8c0e-e1de-44d1-f52a-0a74487561fb"
      },
      "outputs": [
        {
          "output_type": "stream",
          "name": "stdout",
          "text": [
            "Found 5417 files belonging to 90 classes.\n",
            "Using 4876 files for training.\n",
            "Found 5417 files belonging to 90 classes.\n",
            "Using 2708 files for validation.\n"
          ]
        }
      ],
      "source": [
        "train_ds = tf.keras.utils.image_dataset_from_directory(\n",
        "    dataset_dir,\n",
        "    validation_split=0.1,\n",
        "    subset=\"training\",\n",
        "    seed=123,\n",
        "    image_size=(img_height, img_width),\n",
        "    batch_size=batch_size)\n",
        "\n",
        "val_ds = tf.keras.utils.image_dataset_from_directory(\n",
        "    dataset_dir,\n",
        "    validation_split=0.5,\n",
        "    subset=\"validation\",\n",
        "    seed=123,\n",
        "    image_size=(img_height, img_width),\n",
        "    batch_size=batch_size)"
      ]
    },
    {
      "cell_type": "code",
      "execution_count": null,
      "metadata": {
        "colab": {
          "base_uri": "https://localhost:8080/"
        },
        "id": "BA7OwDPrnZkB",
        "outputId": "3558940b-ab81-4382-e785-c7860ac8effc"
      },
      "outputs": [
        {
          "output_type": "execute_result",
          "data": {
            "text/plain": [
              "['antelope',\n",
              " 'badger',\n",
              " 'bat',\n",
              " 'bear',\n",
              " 'bee',\n",
              " 'beetle',\n",
              " 'bison',\n",
              " 'boar',\n",
              " 'butterfly',\n",
              " 'cat',\n",
              " 'caterpillar',\n",
              " 'chimpanzee',\n",
              " 'cockroach',\n",
              " 'cow',\n",
              " 'coyote',\n",
              " 'crab',\n",
              " 'crow',\n",
              " 'deer',\n",
              " 'dog',\n",
              " 'dolphin',\n",
              " 'donkey',\n",
              " 'dragonfly',\n",
              " 'duck',\n",
              " 'eagle',\n",
              " 'elephant',\n",
              " 'flamingo',\n",
              " 'fly',\n",
              " 'fox',\n",
              " 'goat',\n",
              " 'goldfish',\n",
              " 'goose',\n",
              " 'gorilla',\n",
              " 'grasshopper',\n",
              " 'hamster',\n",
              " 'hare',\n",
              " 'hedgehog',\n",
              " 'hippopotamus',\n",
              " 'hornbill',\n",
              " 'horse',\n",
              " 'hummingbird',\n",
              " 'hyena',\n",
              " 'jellyfish',\n",
              " 'kangaroo',\n",
              " 'koala',\n",
              " 'ladybugs',\n",
              " 'leopard',\n",
              " 'lion',\n",
              " 'lizard',\n",
              " 'lobster',\n",
              " 'mosquito',\n",
              " 'moth',\n",
              " 'mouse',\n",
              " 'octopus',\n",
              " 'okapi',\n",
              " 'orangutan',\n",
              " 'otter',\n",
              " 'owl',\n",
              " 'ox',\n",
              " 'oyster',\n",
              " 'panda',\n",
              " 'parrot',\n",
              " 'pelecaniformes',\n",
              " 'penguin',\n",
              " 'pig',\n",
              " 'pigeon',\n",
              " 'porcupine',\n",
              " 'possum',\n",
              " 'raccoon',\n",
              " 'rat',\n",
              " 'reindeer',\n",
              " 'rhinoceros',\n",
              " 'sandpiper',\n",
              " 'seahorse',\n",
              " 'seal',\n",
              " 'shark',\n",
              " 'sheep',\n",
              " 'snake',\n",
              " 'sparrow',\n",
              " 'squid',\n",
              " 'squirrel',\n",
              " 'starfish',\n",
              " 'swan',\n",
              " 'tiger',\n",
              " 'turkey',\n",
              " 'turtle',\n",
              " 'whale',\n",
              " 'wolf',\n",
              " 'wombat',\n",
              " 'woodpecker',\n",
              " 'zebra']"
            ]
          },
          "metadata": {},
          "execution_count": 8
        }
      ],
      "source": [
        "class_names = train_ds.class_names\n",
        "class_names"
      ]
    },
    {
      "cell_type": "code",
      "execution_count": null,
      "metadata": {
        "id": "qq_JvxJAogFq"
      },
      "outputs": [],
      "source": [
        "model = models.Sequential([\n",
        "    layers.Rescaling(1./255, input_shape=(img_height, img_width, 3)),\n",
        "    layers.Conv2D(40, 3, activation='relu'),\n",
        "    layers.MaxPooling2D(),\n",
        "    layers.Conv2D(40, 3, activation='relu'),\n",
        "    layers.MaxPooling2D(),\n",
        "    layers.Flatten(),\n",
        "    layers.Dense(32, activation='relu'),\n",
        "    layers.Dense(16, activation='relu'),\n",
        "    layers.Dense(len(class_names), activation='softmax') #softmax is used for multi class classsification\n",
        "])"
      ]
    },
    {
      "cell_type": "code",
      "execution_count": null,
      "metadata": {
        "id": "wCEf1Vl1okqy"
      },
      "outputs": [],
      "source": [
        "model.compile(optimizer='adam',\n",
        "loss=tf.keras.losses.SparseCategoricalCrossentropy(from_logits=False),\n",
        "metrics=['accuracy'])"
      ]
    },
    {
      "cell_type": "code",
      "execution_count": null,
      "metadata": {
        "colab": {
          "base_uri": "https://localhost:8080/"
        },
        "id": "n2g4G1pwh6Ne",
        "outputId": "0b3ac3ef-3c2c-473c-b3d9-57464566dd8d"
      },
      "outputs": [
        {
          "output_type": "stream",
          "name": "stdout",
          "text": [
            "Epoch 1/30\n",
            " 534/2438 [=====>........................] - ETA: 24:10 - loss: 4.5078 - accuracy: 0.0094"
          ]
        }
      ],
      "source": [
        "epochs = 30\n",
        "history = model.fit(\n",
        "    train_ds,\n",
        "    validation_data=val_ds,\n",
        "    epochs=epochs\n",
        ")"
      ]
    },
    {
      "cell_type": "code",
      "execution_count": null,
      "metadata": {
        "id": "Odo2KhI6oqgd"
      },
      "outputs": [],
      "source": [
        "val_acc = history.history['val_accuracy']\n",
        "print(\"Maximum Validation Accuracy:\", max(val_acc))"
      ]
    },
    {
      "cell_type": "code",
      "execution_count": null,
      "metadata": {
        "id": "av-hhWgKsgjp"
      },
      "outputs": [],
      "source": [
        "model.evaluate(val_ds)"
      ]
    },
    {
      "cell_type": "code",
      "execution_count": null,
      "metadata": {
        "id": "5ZnatVOhpw3k"
      },
      "outputs": [],
      "source": [
        "from google.colab import files\n",
        "from keras.preprocessing import image\n",
        "import numpy as np\n",
        "import cv2\n",
        "\n",
        "uploaded = files.upload()\n",
        "\n",
        "filename = next(iter(uploaded))\n",
        "\n",
        "\n",
        "img = image.load_img(filename, target_size=(img_height, img_width))\n",
        "img_array = image.img_to_array(img)\n",
        "img_array = np.expand_dims(img_array, axis=0)\n",
        "ret=model.predict(img_array)[0]\n",
        "print(ret)"
      ]
    },
    {
      "cell_type": "code",
      "execution_count": null,
      "metadata": {
        "id": "FN2exPsYt-U4"
      },
      "outputs": [],
      "source": [
        "class_names=['antelope',\n",
        " 'badger',\n",
        " 'bat',\n",
        " 'bear',\n",
        " 'bee',\n",
        " 'beetle',\n",
        " 'bison',\n",
        " 'boar',\n",
        " 'butterfly',\n",
        " 'cat',\n",
        " 'caterpillar',\n",
        " 'chimpanzee',\n",
        " 'cockroach',\n",
        " 'cow',\n",
        " 'coyote',\n",
        " 'crab',\n",
        " 'crow',\n",
        " 'deer',\n",
        " 'dog',\n",
        " 'dolphin',\n",
        " 'donkey',\n",
        " 'dragonfly',\n",
        " 'duck',\n",
        " 'eagle',\n",
        " 'elephant',\n",
        " 'flamingo',\n",
        " 'fly',\n",
        " 'fox',\n",
        " 'goat',\n",
        " 'goldfish',\n",
        " 'goose',\n",
        " 'gorilla',\n",
        " 'grasshopper',\n",
        " 'hamster',\n",
        " 'hare',\n",
        " 'hedgehog',\n",
        " 'hippopotamus',\n",
        " 'hornbill',\n",
        " 'horse',\n",
        " 'hummingbird',\n",
        " 'hyena',\n",
        " 'jellyfish',\n",
        " 'kangaroo',\n",
        " 'koala',\n",
        " 'ladybugs',\n",
        " 'leopard',\n",
        " 'lion',\n",
        " 'lizard',\n",
        " 'lobster',\n",
        " 'mosquito',\n",
        " 'moth',\n",
        " 'mouse',\n",
        " 'octopus',\n",
        " 'okapi',\n",
        " 'orangutan',\n",
        " 'otter',\n",
        " 'owl',\n",
        " 'ox',\n",
        " 'oyster',\n",
        " 'panda',\n",
        " 'parrot',\n",
        " 'pelecaniformes',\n",
        " 'penguin',\n",
        " 'pig',\n",
        " 'pigeon',\n",
        " 'porcupine',\n",
        " 'possum',\n",
        " 'raccoon',\n",
        " 'rat',\n",
        " 'reindeer',\n",
        " 'rhinoceros',\n",
        " 'sandpiper',\n",
        " 'seahorse',\n",
        " 'seal',\n",
        " 'shark',\n",
        " 'sheep',\n",
        " 'snake',\n",
        " 'sparrow',\n",
        " 'squid',\n",
        " 'squirrel',\n",
        " 'starfish',\n",
        " 'swan',\n",
        " 'tiger',\n",
        " 'turkey',\n",
        " 'turtle',\n",
        " 'whale',\n",
        " 'wolf',\n",
        " 'wombat',\n",
        " 'woodpecker',\n",
        " 'zebra']\n",
        "x=class_names[round(ret[0])]\n",
        "print(f\"It is a {x}\")"
      ]
    },
    {
      "cell_type": "code",
      "execution_count": null,
      "metadata": {
        "id": "P25PZkJJwXAf"
      },
      "outputs": [],
      "source": []
    }
  ],
  "metadata": {
    "accelerator": "GPU",
    "colab": {
      "gpuType": "T4",
      "provenance": []
    },
    "kernelspec": {
      "display_name": "Python 3",
      "name": "python3"
    },
    "language_info": {
      "name": "python"
    }
  },
  "nbformat": 4,
  "nbformat_minor": 0
}